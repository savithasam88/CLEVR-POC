{
 "cells": [
  {
   "cell_type": "code",
   "execution_count": 1,
   "id": "0ec6f7ed",
   "metadata": {},
   "outputs": [
    {
     "name": "stderr",
     "output_type": "stream",
     "text": [
      "/home/anaconda3/envs/clip/lib/python3.7/site-packages/tqdm/auto.py:22: TqdmWarning: IProgress not found. Please update jupyter and ipywidgets. See https://ipywidgets.readthedocs.io/en/stable/user_install.html\n",
      "  from .autonotebook import tqdm as notebook_tqdm\n"
     ]
    },
    {
     "name": "stdout",
     "output_type": "stream",
     "text": [
      "/home/code/python/CLEVR-POC/clevr-poc-dataset-gen/output-2000/incomplete/images/training/CLEVR_000000.png\n",
      "<class 'PIL.Image.Image'>\n",
      "<class 'list'>\n",
      "tensor([[0.7434, 0.2566],\n",
      "        [0.7434, 0.2566]], grad_fn=<SoftmaxBackward>)\n"
     ]
    }
   ],
   "source": [
    "from PIL import Image\n",
    "import requests\n",
    "import os\n",
    "from transformers import CLIPProcessor, CLIPModel\n",
    "\n",
    "DATA_FOLDER = '/home/code/python/CLEVR-POC/clevr-poc-dataset-gen/output-2000/incomplete'\n",
    "path = os.path.join(DATA_FOLDER, 'images', 'training', 'CLEVR_000000.png')\n",
    "\n",
    "print(path)\n",
    "model = CLIPModel.from_pretrained(\"openai/clip-vit-base-patch32\")\n",
    "processor = CLIPProcessor.from_pretrained(\"openai/clip-vit-base-patch32\")\n",
    "\n",
    "#url = \"http://images.cocodataset.org/val2017/000000039769.jpg\"\n",
    "#image = (requests.get(url, stream=True).raw)\n",
    "\n",
    "image = Image.open(path).convert(\"RGB\")\n",
    "print(type(image))\n",
    "images = [image, image]\n",
    "print(type(images))\n",
    "inputs = processor(text=[\"a photo of a cat\", \"dsdsjd\"], images=images, return_tensors=\"pt\", padding=True)\n",
    "\n",
    "outputs = model(**inputs)\n",
    "logits_per_image = outputs.logits_per_image  # this is the image-text similarity score\n",
    "probs = logits_per_image.softmax(dim=1)  # we can take the softmax to get the label probabilities\n",
    "\n",
    "print(probs)\n"
   ]
  },
  {
   "cell_type": "code",
   "execution_count": 2,
   "id": "103c7869",
   "metadata": {},
   "outputs": [
    {
     "name": "stdout",
     "output_type": "stream",
     "text": [
      "CLIPOutput(loss=None, logits_per_image=tensor([[21.2840, 20.2204],\n",
      "        [21.2840, 20.2204]], grad_fn=<PermuteBackward>), logits_per_text=tensor([[21.2840, 21.2840],\n",
      "        [20.2204, 20.2204]], grad_fn=<MulBackward0>), text_embeds=tensor([[ 0.0148,  0.0070, -0.0234,  ..., -0.0508, -0.0438,  0.0033],\n",
      "        [-0.0010,  0.0163,  0.0105,  ..., -0.0158, -0.0107,  0.0089]],\n",
      "       grad_fn=<DivBackward0>), image_embeds=tensor([[-0.0037, -0.0174,  0.0181,  ...,  0.0432, -0.0245, -0.0261],\n",
      "        [-0.0037, -0.0174,  0.0181,  ...,  0.0432, -0.0245, -0.0261]],\n",
      "       grad_fn=<DivBackward0>), text_model_output=BaseModelOutputWithPooling(last_hidden_state=tensor([[[ 0.3393,  0.1165,  0.1020,  ...,  0.2468,  0.5906,  0.1013],\n",
      "         [ 1.9753, -0.5844,  0.3685,  ...,  1.1658,  0.8050, -0.9801],\n",
      "         [ 1.0580, -0.9600,  1.0018,  ..., -0.5155, -0.1437, -1.9444],\n",
      "         ...,\n",
      "         [ 0.3059, -1.5037, -0.4022,  ..., -0.0224,  0.9105, -0.3916],\n",
      "         [ 1.0118, -0.6701,  1.7742,  ..., -0.1556, -0.0250, -1.5062],\n",
      "         [-0.5152,  0.1658,  0.8876,  ..., -0.0675, -0.4551, -1.7960]],\n",
      "\n",
      "        [[ 0.3393,  0.1165,  0.1020,  ...,  0.2468,  0.5906,  0.1013],\n",
      "         [-0.0692,  0.9677, -1.3354,  ...,  0.4639,  1.1996, -3.3045],\n",
      "         [ 0.6403, -0.0319, -1.0783,  ...,  1.1515,  0.2748, -2.3145],\n",
      "         ...,\n",
      "         [ 0.2580, -0.1585, -1.3466,  ...,  0.3220,  0.2524, -1.6104],\n",
      "         [ 1.3296, -0.9048, -0.4336,  ...,  1.2942,  0.1051, -1.3816],\n",
      "         [ 1.3130, -0.8958, -0.4296,  ...,  1.3283,  0.1007, -1.3634]]],\n",
      "       grad_fn=<NativeLayerNormBackward>), pooler_output=tensor([[-0.5152,  0.1658,  0.8876,  ..., -0.0675, -0.4551, -1.7960],\n",
      "        [ 1.3130, -0.8958, -0.4296,  ...,  1.3283,  0.1007, -1.3634]],\n",
      "       grad_fn=<IndexBackward>), hidden_states=None, attentions=None), vision_model_output=BaseModelOutputWithPooling(last_hidden_state=tensor([[[ 0.1138,  0.0494, -0.0319,  ...,  0.0213,  0.3112,  0.0143],\n",
      "         [-0.0913,  0.2639, -0.3870,  ..., -0.0736,  0.2636,  0.0695],\n",
      "         [-0.1194,  0.2636, -0.4455,  ..., -0.0632,  0.2539,  0.0521],\n",
      "         ...,\n",
      "         [-0.0350,  0.3754, -0.3967,  ..., -0.0694,  0.3650, -0.1988],\n",
      "         [ 0.0569,  0.3542, -0.2416,  ...,  0.0339,  0.2801, -0.1062],\n",
      "         [-0.1224,  0.1885, -0.3138,  ..., -0.1469,  0.2424, -0.0295]],\n",
      "\n",
      "        [[ 0.1138,  0.0494, -0.0319,  ...,  0.0213,  0.3112,  0.0143],\n",
      "         [-0.0913,  0.2639, -0.3870,  ..., -0.0736,  0.2636,  0.0695],\n",
      "         [-0.1194,  0.2636, -0.4455,  ..., -0.0632,  0.2539,  0.0521],\n",
      "         ...,\n",
      "         [-0.0350,  0.3754, -0.3967,  ..., -0.0694,  0.3650, -0.1988],\n",
      "         [ 0.0569,  0.3542, -0.2416,  ...,  0.0339,  0.2801, -0.1062],\n",
      "         [-0.1224,  0.1885, -0.3138,  ..., -0.1469,  0.2424, -0.0295]]],\n",
      "       grad_fn=<AddBackward0>), pooler_output=tensor([[ 0.6236, -0.1619,  0.0472,  ...,  0.0658,  1.4137,  0.2441],\n",
      "        [ 0.6236, -0.1619,  0.0472,  ...,  0.0658,  1.4137,  0.2441]],\n",
      "       grad_fn=<NativeLayerNormBackward>), hidden_states=None, attentions=None))\n"
     ]
    }
   ],
   "source": [
    "print(outputs)"
   ]
  },
  {
   "cell_type": "code",
   "execution_count": null,
   "id": "55e5edd9",
   "metadata": {},
   "outputs": [],
   "source": []
  }
 ],
 "metadata": {
  "kernelspec": {
   "display_name": "Python 3 (ipykernel)",
   "language": "python",
   "name": "python3"
  },
  "language_info": {
   "codemirror_mode": {
    "name": "ipython",
    "version": 3
   },
   "file_extension": ".py",
   "mimetype": "text/x-python",
   "name": "python",
   "nbconvert_exporter": "python",
   "pygments_lexer": "ipython3",
   "version": "3.7.13"
  }
 },
 "nbformat": 4,
 "nbformat_minor": 5
}
